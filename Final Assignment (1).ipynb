{
 "cells": [
  {
   "cell_type": "markdown",
   "metadata": {},
   "source": [
    "<p style=\"text-align:center\">\n",
    "    <a href=\"https://skills.network/?utm_medium=Exinfluencer&utm_source=Exinfluencer&utm_content=000026UJ&utm_term=10006555&utm_id=NA-SkillsNetwork-Channel-SkillsNetworkCoursesIBMDeveloperSkillsNetworkPY0220ENSkillsNetwork900-2022-01-01\" target=\"_blank\">\n",
    "    <img src=\"https://cf-courses-data.s3.us.cloud-object-storage.appdomain.cloud/assets/logos/SN_web_lightmode.png\" width=\"200\" alt=\"Skills Network Logo\">\n",
    "    </a>\n",
    "</p>\n"
   ]
  },
  {
   "cell_type": "markdown",
   "metadata": {},
   "source": [
    "<h1>Extracting and Visualizing Stock Data</h1>\n",
    "<h2>Description</h2>\n"
   ]
  },
  {
   "cell_type": "markdown",
   "metadata": {},
   "source": [
    "Extracting essential data from a dataset and displaying it is a necessary part of data science; therefore individuals can make correct decisions based on the data. In this assignment, you will extract some stock data, you will then display this data in a graph.\n"
   ]
  },
  {
   "cell_type": "markdown",
   "metadata": {},
   "source": [
    "<h2>Table of Contents</h2>\n",
    "<div class=\"alert alert-block alert-info\" style=\"margin-top: 20px\">\n",
    "    <ul>\n",
    "        <li>Define a Function that Makes a Graph</li>\n",
    "        <li>Question 1: Use yfinance to Extract Stock Data</li>\n",
    "        <li>Question 2: Use Webscraping to Extract Tesla Revenue Data</li>\n",
    "        <li>Question 3: Use yfinance to Extract Stock Data</li>\n",
    "        <li>Question 4: Use Webscraping to Extract GME Revenue Data</li>\n",
    "        <li>Question 5: Plot Tesla Stock Graph</li>\n",
    "        <li>Question 6: Plot GameStop Stock Graph</li>\n",
    "    </ul>\n",
    "<p>\n",
    "    Estimated Time Needed: <strong>30 min</strong></p>\n",
    "</div>\n",
    "\n",
    "<hr>\n"
   ]
  },
  {
   "cell_type": "markdown",
   "metadata": {},
   "source": [
    "***Note***:- If you are working in IBM Cloud Watson Studio, please replace the command for installing nbformat from `!pip install nbformat==4.2.0` to simply `!pip install nbformat`\n"
   ]
  },
  {
   "cell_type": "code",
   "execution_count": 1,
   "metadata": {
    "tags": []
   },
   "outputs": [
    {
     "name": "stdout",
     "output_type": "stream",
     "text": [
      "Collecting yfinance==0.1.67\n",
      "  Downloading yfinance-0.1.67-py2.py3-none-any.whl (25 kB)\n",
      "Requirement already satisfied: pandas>=0.24 in /home/jupyterlab/conda/envs/python/lib/python3.7/site-packages (from yfinance==0.1.67) (1.3.5)\n",
      "Requirement already satisfied: numpy>=1.15 in /home/jupyterlab/conda/envs/python/lib/python3.7/site-packages (from yfinance==0.1.67) (1.21.6)\n",
      "Requirement already satisfied: requests>=2.20 in /home/jupyterlab/conda/envs/python/lib/python3.7/site-packages (from yfinance==0.1.67) (2.29.0)\n",
      "Collecting multitasking>=0.0.7 (from yfinance==0.1.67)\n",
      "  Downloading multitasking-0.0.11-py3-none-any.whl (8.5 kB)\n",
      "Requirement already satisfied: lxml>=4.5.1 in /home/jupyterlab/conda/envs/python/lib/python3.7/site-packages (from yfinance==0.1.67) (4.6.4)\n",
      "Requirement already satisfied: python-dateutil>=2.7.3 in /home/jupyterlab/conda/envs/python/lib/python3.7/site-packages (from pandas>=0.24->yfinance==0.1.67) (2.8.2)\n",
      "Requirement already satisfied: pytz>=2017.3 in /home/jupyterlab/conda/envs/python/lib/python3.7/site-packages (from pandas>=0.24->yfinance==0.1.67) (2023.3)\n",
      "Requirement already satisfied: charset-normalizer<4,>=2 in /home/jupyterlab/conda/envs/python/lib/python3.7/site-packages (from requests>=2.20->yfinance==0.1.67) (3.1.0)\n",
      "Requirement already satisfied: idna<4,>=2.5 in /home/jupyterlab/conda/envs/python/lib/python3.7/site-packages (from requests>=2.20->yfinance==0.1.67) (3.4)\n",
      "Requirement already satisfied: urllib3<1.27,>=1.21.1 in /home/jupyterlab/conda/envs/python/lib/python3.7/site-packages (from requests>=2.20->yfinance==0.1.67) (1.26.15)\n",
      "Requirement already satisfied: certifi>=2017.4.17 in /home/jupyterlab/conda/envs/python/lib/python3.7/site-packages (from requests>=2.20->yfinance==0.1.67) (2023.5.7)\n",
      "Requirement already satisfied: six>=1.5 in /home/jupyterlab/conda/envs/python/lib/python3.7/site-packages (from python-dateutil>=2.7.3->pandas>=0.24->yfinance==0.1.67) (1.16.0)\n",
      "Installing collected packages: multitasking, yfinance\n",
      "Successfully installed multitasking-0.0.11 yfinance-0.1.67\n",
      "\n",
      "                  __    __    __    __\n",
      "                 /  \\  /  \\  /  \\  /  \\\n",
      "                /    \\/    \\/    \\/    \\\n",
      "███████████████/  /██/  /██/  /██/  /████████████████████████\n",
      "              /  / \\   / \\   / \\   / \\  \\____\n",
      "             /  /   \\_/   \\_/   \\_/   \\    o \\__,\n",
      "            / _/                       \\_____/  `\n",
      "            |/\n",
      "        ███╗   ███╗ █████╗ ███╗   ███╗██████╗  █████╗\n",
      "        ████╗ ████║██╔══██╗████╗ ████║██╔══██╗██╔══██╗\n",
      "        ██╔████╔██║███████║██╔████╔██║██████╔╝███████║\n",
      "        ██║╚██╔╝██║██╔══██║██║╚██╔╝██║██╔══██╗██╔══██║\n",
      "        ██║ ╚═╝ ██║██║  ██║██║ ╚═╝ ██║██████╔╝██║  ██║\n",
      "        ╚═╝     ╚═╝╚═╝  ╚═╝╚═╝     ╚═╝╚═════╝ ╚═╝  ╚═╝\n",
      "\n",
      "        mamba (1.4.2) supported by @QuantStack\n",
      "\n",
      "        GitHub:  https://github.com/mamba-org/mamba\n",
      "        Twitter: https://twitter.com/QuantStack\n",
      "\n",
      "█████████████████████████████████████████████████████████████\n",
      "\n",
      "\n",
      "Looking for: ['bs4==4.10.0']\n",
      "\n",
      "\u001b[?25l\u001b[2K\u001b[0G[+] 0.0s\n",
      "\u001b[2K\u001b[1A\u001b[2K\u001b[0G[+] 0.1s\n",
      "pkgs/main/linux-64 \u001b[90m━━━━━╸\u001b[0m\u001b[33m━━━━━━━━━━━━━━━╸\u001b[0m\u001b[90m━━━\u001b[0m   0.0 B /  ??.?MB @  ??.?MB/s  0.1s\n",
      "pkgs/main/noarch   \u001b[90m━╸\u001b[0m\u001b[33m━━━━━━━━━━━━━━━╸\u001b[0m\u001b[90m━━━━━━━\u001b[0m   0.0 B /  ??.?MB @  ??.?MB/s  0.1s\n",
      "pkgs/r/linux-64    \u001b[90m━━━━━━━╸\u001b[0m\u001b[33m━━━━━━━━━━━━━━━╸\u001b[0m\u001b[90m━\u001b[0m   0.0 B /  ??.?MB @  ??.?MB/s  0.1s\n",
      "pkgs/r/noarch      \u001b[90m━━━━━━╸\u001b[0m\u001b[33m━━━━━━━━━━━━━━━╸\u001b[0m\u001b[90m━━\u001b[0m   0.0 B /  ??.?MB @  ??.?MB/s  0.1s\u001b[2K\u001b[1A\u001b[2K\u001b[1A\u001b[2K\u001b[1A\u001b[2K\u001b[1A\u001b[2K\u001b[0Gpkgs/main/linux-64                                            No change\n",
      "pkgs/r/noarch                                                 No change\n",
      "pkgs/main/noarch                                              No change\n",
      "pkgs/r/linux-64                                               No change\n",
      "\u001b[?25h\n",
      "Pinned packages:\n",
      "  - python 3.7.*\n",
      "\n",
      "\n",
      "Transaction\n",
      "\n",
      "  Prefix: /home/jupyterlab/conda/envs/python\n",
      "\n",
      "  All requested packages already installed\n",
      "\n",
      "\u001b[?25l\u001b[2K\u001b[0G\u001b[?25hCollecting nbformat==4.2.0\n",
      "  Downloading nbformat-4.2.0-py2.py3-none-any.whl (153 kB)\n",
      "\u001b[2K     \u001b[90m━━━━━━━━━━━━━━━━━━━━━━━━━━━━━━━━━━━━━━\u001b[0m \u001b[32m153.3/153.3 kB\u001b[0m \u001b[31m23.4 MB/s\u001b[0m eta \u001b[36m0:00:00\u001b[0m\n",
      "\u001b[?25hRequirement already satisfied: ipython-genutils in /home/jupyterlab/conda/envs/python/lib/python3.7/site-packages (from nbformat==4.2.0) (0.2.0)\n",
      "Requirement already satisfied: jsonschema!=2.5.0,>=2.4 in /home/jupyterlab/conda/envs/python/lib/python3.7/site-packages (from nbformat==4.2.0) (4.17.3)\n",
      "Requirement already satisfied: jupyter-core in /home/jupyterlab/conda/envs/python/lib/python3.7/site-packages (from nbformat==4.2.0) (4.12.0)\n",
      "Requirement already satisfied: traitlets>=4.1 in /home/jupyterlab/conda/envs/python/lib/python3.7/site-packages (from nbformat==4.2.0) (5.9.0)\n",
      "Requirement already satisfied: attrs>=17.4.0 in /home/jupyterlab/conda/envs/python/lib/python3.7/site-packages (from jsonschema!=2.5.0,>=2.4->nbformat==4.2.0) (23.1.0)\n",
      "Requirement already satisfied: importlib-metadata in /home/jupyterlab/conda/envs/python/lib/python3.7/site-packages (from jsonschema!=2.5.0,>=2.4->nbformat==4.2.0) (4.11.4)\n",
      "Requirement already satisfied: importlib-resources>=1.4.0 in /home/jupyterlab/conda/envs/python/lib/python3.7/site-packages (from jsonschema!=2.5.0,>=2.4->nbformat==4.2.0) (5.12.0)\n",
      "Requirement already satisfied: pkgutil-resolve-name>=1.3.10 in /home/jupyterlab/conda/envs/python/lib/python3.7/site-packages (from jsonschema!=2.5.0,>=2.4->nbformat==4.2.0) (1.3.10)\n",
      "Requirement already satisfied: pyrsistent!=0.17.0,!=0.17.1,!=0.17.2,>=0.14.0 in /home/jupyterlab/conda/envs/python/lib/python3.7/site-packages (from jsonschema!=2.5.0,>=2.4->nbformat==4.2.0) (0.19.3)\n",
      "Requirement already satisfied: typing-extensions in /home/jupyterlab/conda/envs/python/lib/python3.7/site-packages (from jsonschema!=2.5.0,>=2.4->nbformat==4.2.0) (4.5.0)\n",
      "Requirement already satisfied: zipp>=3.1.0 in /home/jupyterlab/conda/envs/python/lib/python3.7/site-packages (from importlib-resources>=1.4.0->jsonschema!=2.5.0,>=2.4->nbformat==4.2.0) (3.15.0)\n",
      "Installing collected packages: nbformat\n",
      "  Attempting uninstall: nbformat\n",
      "    Found existing installation: nbformat 5.8.0\n",
      "    Uninstalling nbformat-5.8.0:\n",
      "      Successfully uninstalled nbformat-5.8.0\n",
      "\u001b[31mERROR: pip's dependency resolver does not currently take into account all the packages that are installed. This behaviour is the source of the following dependency conflicts.\n",
      "jupyter-server 1.24.0 requires nbformat>=5.2.0, but you have nbformat 4.2.0 which is incompatible.\n",
      "nbclient 0.7.4 requires nbformat>=5.1, but you have nbformat 4.2.0 which is incompatible.\n",
      "nbconvert 7.4.0 requires nbformat>=5.1, but you have nbformat 4.2.0 which is incompatible.\u001b[0m\u001b[31m\n",
      "\u001b[0mSuccessfully installed nbformat-4.2.0\n"
     ]
    }
   ],
   "source": [
    "!pip install yfinance==0.1.67\n",
    "!mamba install bs4==4.10.0 -y\n",
    "!pip install nbformat==4.2.0"
   ]
  },
  {
   "cell_type": "code",
   "execution_count": 2,
   "metadata": {
    "tags": []
   },
   "outputs": [],
   "source": [
    "import yfinance as yf\n",
    "import pandas as pd\n",
    "import requests\n",
    "from bs4 import BeautifulSoup\n",
    "import plotly.graph_objects as go\n",
    "from plotly.subplots import make_subplots"
   ]
  },
  {
   "cell_type": "markdown",
   "metadata": {},
   "source": [
    "In Python, you can ignore warnings using the warnings module. You can use the filterwarnings function to filter or ignore specific warning messages or categories.\n"
   ]
  },
  {
   "cell_type": "code",
   "execution_count": 3,
   "metadata": {
    "tags": []
   },
   "outputs": [],
   "source": [
    "import warnings\n",
    "# Ignore all warnings\n",
    "warnings.filterwarnings(\"ignore\", category=FutureWarning)"
   ]
  },
  {
   "cell_type": "markdown",
   "metadata": {},
   "source": [
    "## Define Graphing Function\n"
   ]
  },
  {
   "cell_type": "markdown",
   "metadata": {},
   "source": [
    "In this section, we define the function `make_graph`. You don't have to know how the function works, you should only care about the inputs. It takes a dataframe with stock data (dataframe must contain Date and Close columns), a dataframe with revenue data (dataframe must contain Date and Revenue columns), and the name of the stock.\n"
   ]
  },
  {
   "cell_type": "code",
   "execution_count": 5,
   "metadata": {
    "tags": []
   },
   "outputs": [],
   "source": [
    "def make_graph(stock_data, revenue_data, stock):\n",
    "    fig = make_subplots(rows=2, cols=1, shared_xaxes=True, subplot_titles=(\"Historical Share Price\", \"Historical Revenue\"), vertical_spacing = .3)\n",
    "    stock_data_specific = stock_data[stock_data.Date <= '2021--06-14']\n",
    "    revenue_data_specific = revenue_data[revenue_data.Date <= '2021-04-30']\n",
    "    fig.add_trace(go.Scatter(x=pd.to_datetime(stock_data_specific.Date, infer_datetime_format=True), y=stock_data_specific.Close.astype(\"float\"), name=\"Share Price\"), row=1, col=1)\n",
    "    fig.add_trace(go.Scatter(x=pd.to_datetime(revenue_data_specific.Date, infer_datetime_format=True), y=revenue_data_specific.Revenue.astype(\"float\"), name=\"Revenue\"), row=2, col=1)\n",
    "    fig.update_xaxes(title_text=\"Date\", row=1, col=1)\n",
    "    fig.update_xaxes(title_text=\"Date\", row=2, col=1)\n",
    "    fig.update_yaxes(title_text=\"Price ($US)\", row=1, col=1)\n",
    "    fig.update_yaxes(title_text=\"Revenue ($US Millions)\", row=2, col=1)\n",
    "    fig.update_layout(showlegend=False,\n",
    "    height=900,\n",
    "    title=stock,\n",
    "    xaxis_rangeslider_visible=True)\n",
    "    fig.show()"
   ]
  },
  {
   "cell_type": "markdown",
   "metadata": {},
   "source": [
    "## Question 1: Use yfinance to Extract Stock Data\n"
   ]
  },
  {
   "cell_type": "markdown",
   "metadata": {},
   "source": [
    "Using the `Ticker` function enter the ticker symbol of the stock we want to extract data on to create a ticker object. The stock is Tesla and its ticker symbol is `TSLA`.\n"
   ]
  },
  {
   "cell_type": "code",
   "execution_count": 9,
   "metadata": {
    "tags": []
   },
   "outputs": [],
   "source": [
    "import yfinance as yf\n",
    "\n",
    "# Create a ticker object for Tesla using its ticker symbol TSLA\n",
    "ticker = yf.Ticker(\"TSLA\")\n",
    "\n",
    "# Get stock information\n",
    "stock_info = ticker.info\n"
   ]
  },
  {
   "cell_type": "markdown",
   "metadata": {},
   "source": [
    "Using the ticker object and the function `history` extract stock information and save it in a dataframe named `tesla_data`. Set the `period` parameter to `max` so we get information for the maximum amount of time.\n"
   ]
  },
  {
   "cell_type": "code",
   "execution_count": 8,
   "metadata": {
    "tags": []
   },
   "outputs": [
    {
     "name": "stdout",
     "output_type": "stream",
     "text": [
      "                Open      High       Low     Close     Volume  Dividends  \\\n",
      "Date                                                                       \n",
      "2010-06-29  1.266667  1.666667  1.169333  1.592667  281494500          0   \n",
      "2010-06-30  1.719333  2.028000  1.553333  1.588667  257806500          0   \n",
      "2010-07-01  1.666667  1.728000  1.351333  1.464000  123282000          0   \n",
      "2010-07-02  1.533333  1.540000  1.247333  1.280000   77097000          0   \n",
      "2010-07-06  1.333333  1.333333  1.055333  1.074000  103003500          0   \n",
      "\n",
      "            Stock Splits  \n",
      "Date                      \n",
      "2010-06-29           0.0  \n",
      "2010-06-30           0.0  \n",
      "2010-07-01           0.0  \n",
      "2010-07-02           0.0  \n",
      "2010-07-06           0.0  \n"
     ]
    }
   ],
   "source": [
    "# Create a ticker object for Tesla using its ticker symbol TSLA\n",
    "ticker = yf.Ticker(\"TSLA\")\n",
    "\n",
    "# Get historical market data for the maximum amount of time available\n",
    "tesla_data = ticker.history(period=\"max\")\n",
    "\n",
    "# Display the first few rows of the DataFrame\n",
    "print(tesla_data.head())\n",
    "\n",
    "# Save the data to a CSV file named \"tesla_stock_data.csv\"\n",
    "tesla_data.to_csv('tesla_stock_data.csv')"
   ]
  },
  {
   "cell_type": "markdown",
   "metadata": {},
   "source": [
    "**Reset the index** using the `reset_index(inplace=True)` function on the tesla_data DataFrame and display the first five rows of the `tesla_data` dataframe using the `head` function. Take a screenshot of the results and code from the beginning of Question 1 to the results below.\n"
   ]
  },
  {
   "cell_type": "code",
   "execution_count": 10,
   "metadata": {
    "tags": []
   },
   "outputs": [
    {
     "name": "stdout",
     "output_type": "stream",
     "text": [
      "        Date      Open      High       Low     Close     Volume  Dividends  \\\n",
      "0 2010-06-29  1.266667  1.666667  1.169333  1.592667  281494500          0   \n",
      "1 2010-06-30  1.719333  2.028000  1.553333  1.588667  257806500          0   \n",
      "2 2010-07-01  1.666667  1.728000  1.351333  1.464000  123282000          0   \n",
      "3 2010-07-02  1.533333  1.540000  1.247333  1.280000   77097000          0   \n",
      "4 2010-07-06  1.333333  1.333333  1.055333  1.074000  103003500          0   \n",
      "\n",
      "   Stock Splits  \n",
      "0           0.0  \n",
      "1           0.0  \n",
      "2           0.0  \n",
      "3           0.0  \n",
      "4           0.0  \n"
     ]
    }
   ],
   "source": [
    "# Create a ticker object for Tesla using its ticker symbol TSLA\n",
    "ticker = yf.Ticker(\"TSLA\")\n",
    "\n",
    "# Get historical market data for the maximum amount of time available\n",
    "tesla_data = ticker.history(period=\"max\")\n",
    "\n",
    "# Reset the index of the DataFrame\n",
    "tesla_data.reset_index(inplace=True)\n",
    "\n",
    "# Display the first five rows of the DataFrame\n",
    "print(tesla_data.head())\n"
   ]
  },
  {
   "cell_type": "markdown",
   "metadata": {},
   "source": [
    "## Question 2: Use Webscraping to Extract Tesla Revenue Data\n"
   ]
  },
  {
   "cell_type": "markdown",
   "metadata": {},
   "source": [
    "Use the `requests` library to download the webpage https://cf-courses-data.s3.us.cloud-object-storage.appdomain.cloud/IBMDeveloperSkillsNetwork-PY0220EN-SkillsNetwork/labs/project/revenue.htm Save the text of the response as a variable named `html_data`.\n"
   ]
  },
  {
   "cell_type": "code",
   "execution_count": 11,
   "metadata": {
    "tags": []
   },
   "outputs": [
    {
     "name": "stdout",
     "output_type": "stream",
     "text": [
      "HTML data successfully retrieved.\n"
     ]
    }
   ],
   "source": [
    "import requests\n",
    "\n",
    "# URL of the webpage to scrape\n",
    "url = 'https://cf-courses-data.s3.us.cloud-object-storage.appdomain.cloud/IBMDeveloperSkillsNetwork-PY0220EN-SkillsNetwork/labs/project/revenue.htm'\n",
    "\n",
    "# Send a GET request to the URL\n",
    "response = requests.get(url)\n",
    "\n",
    "# Check if the request was successful (status code 200)\n",
    "if response.status_code == 200:\n",
    "    # Save the HTML content into a variable named html_data\n",
    "    html_data = response.text\n",
    "    print(\"HTML data successfully retrieved.\")\n",
    "else:\n",
    "    print(\"Failed to retrieve HTML data. Status code:\", response.status_code)"
   ]
  },
  {
   "cell_type": "markdown",
   "metadata": {},
   "source": [
    "Parse the html data using `beautiful_soup`.\n"
   ]
  },
  {
   "cell_type": "code",
   "execution_count": 13,
   "metadata": {
    "tags": []
   },
   "outputs": [],
   "source": [
    "from bs4 import BeautifulSoup\n",
    "\n",
    "# URL of the webpage to scrape\n",
    "url = 'https://cf-courses-data.s3.us.cloud-object-storage.appdomain.cloud/IBMDeveloperSkillsNetwork-PY0220EN-SkillsNetwork/labs/project/revenue.htm'\n",
    "\n",
    "# Send a GET request to the URL\n",
    "response = requests.get(url)\n",
    "\n",
    "# Check if the request was successful (status code 200)\n",
    "if response.status_code == 200:\n",
    "    # Save the HTML content into a variable named html_data\n",
    "    html_data = response.text\n",
    "    "
   ]
  },
  {
   "cell_type": "markdown",
   "metadata": {},
   "source": [
    "Using `BeautifulSoup` or the `read_html` function extract the table with `Tesla Revenue` and store it into a dataframe named `tesla_revenue`. The dataframe should have columns `Date` and `Revenue`.\n"
   ]
  },
  {
   "cell_type": "markdown",
   "metadata": {},
   "source": [
    "<details><summary>Click here if you need help locating the table</summary>\n",
    "\n",
    "```\n",
    "    \n",
    "Below is the code to isolate the table, you will now need to loop through the rows and columns like in the previous lab\n",
    "    \n",
    "soup.find_all(\"tbody\")[1]\n",
    "    \n",
    "If you want to use the read_html function the table is located at index 1\n",
    "\n",
    "\n",
    "```\n",
    "\n",
    "</details>\n"
   ]
  },
  {
   "cell_type": "code",
   "execution_count": 23,
   "metadata": {
    "tags": []
   },
   "outputs": [
    {
     "name": "stdout",
     "output_type": "stream",
     "text": [
      "          Date  Revenue\n",
      "0   2022-09-30  $21,454\n",
      "1   2022-06-30  $16,934\n",
      "2   2022-03-31  $18,756\n",
      "3   2021-12-31  $17,719\n",
      "4   2021-09-30  $13,757\n",
      "5   2021-06-30  $11,958\n",
      "6   2021-03-31  $10,389\n",
      "7   2020-12-31  $10,744\n",
      "8   2020-09-30   $8,771\n",
      "9   2020-06-30   $6,036\n",
      "10  2020-03-31   $5,985\n",
      "11  2019-12-31   $7,384\n",
      "12  2019-09-30   $6,303\n",
      "13  2019-06-30   $6,350\n",
      "14  2019-03-31   $4,541\n",
      "15  2018-12-31   $7,226\n",
      "16  2018-09-30   $6,824\n",
      "17  2018-06-30   $4,002\n",
      "18  2018-03-31   $3,409\n",
      "19  2017-12-31   $3,288\n",
      "20  2017-09-30   $2,985\n",
      "21  2017-06-30   $2,790\n",
      "22  2017-03-31   $2,696\n",
      "23  2016-12-31   $2,285\n",
      "24  2016-09-30   $2,298\n",
      "25  2016-06-30   $1,270\n",
      "26  2016-03-31   $1,147\n",
      "27  2015-12-31   $1,214\n",
      "28  2015-09-30     $937\n",
      "29  2015-06-30     $955\n",
      "30  2015-03-31     $940\n",
      "31  2014-12-31     $957\n",
      "32  2014-09-30     $852\n",
      "33  2014-06-30     $769\n",
      "34  2014-03-31     $621\n",
      "35  2013-12-31     $615\n",
      "36  2013-09-30     $431\n",
      "37  2013-06-30     $405\n",
      "38  2013-03-31     $562\n",
      "39  2012-12-31     $306\n",
      "40  2012-09-30      $50\n",
      "41  2012-06-30      $27\n",
      "42  2012-03-31      $30\n",
      "43  2011-12-31      $39\n",
      "44  2011-09-30      $58\n",
      "45  2011-06-30      $58\n",
      "46  2011-03-31      $49\n",
      "47  2010-12-31      $36\n",
      "48  2010-09-30      $31\n",
      "49  2010-06-30      $28\n",
      "50  2010-03-31      $21\n",
      "51  2009-12-31      NaN\n",
      "52  2009-09-30      $46\n",
      "53  2009-06-30      $27\n"
     ]
    }
   ],
   "source": [
    "# URL of the webpage to scrape\n",
    "url = 'https://cf-courses-data.s3.us.cloud-object-storage.appdomain.cloud/IBMDeveloperSkillsNetwork-PY0220EN-SkillsNetwork/labs/project/revenue.htm'\n",
    "\n",
    "# Send a GET request to the URL\n",
    "response = requests.get(url)\n",
    "\n",
    "# Check if the request was successful (status code 200)\n",
    "if response.status_code == 200:\n",
    "    # Save the HTML content into a variable named html_data\n",
    "    html_data = response.text\n",
    "\n",
    "    # Parse the HTML content using BeautifulSoup\n",
    "    soup = BeautifulSoup(html_data, 'html.parser')\n",
    "\n",
    "    # Find the table with Tesla Revenue using the specified index\n",
    "    table = soup.find_all(\"table\")[1]  # If using BeautifulSoup\n",
    "\n",
    "    # Use read_html to directly extract the table into a DataFrame\n",
    "    tesla_revenue = pd.read_html(str(table))[0]  # If using read_html\n",
    "\n",
    "    # Rename columns as Date and Revenue\n",
    "    tesla_revenue.columns = ['Date', 'Revenue']\n",
    "\n",
    "    # Display the DataFrame\n",
    "    print(tesla_revenue)"
   ]
  },
  {
   "cell_type": "markdown",
   "metadata": {},
   "source": [
    "Execute the following line to remove the comma and dollar sign from the `Revenue` column. \n"
   ]
  },
  {
   "cell_type": "code",
   "execution_count": 24,
   "metadata": {
    "tags": []
   },
   "outputs": [
    {
     "name": "stdout",
     "output_type": "stream",
     "text": [
      "          Date  Revenue\n",
      "0   2022-09-30  21454.0\n",
      "1   2022-06-30  16934.0\n",
      "2   2022-03-31  18756.0\n",
      "3   2021-12-31  17719.0\n",
      "4   2021-09-30  13757.0\n",
      "5   2021-06-30  11958.0\n",
      "6   2021-03-31  10389.0\n",
      "7   2020-12-31  10744.0\n",
      "8   2020-09-30   8771.0\n",
      "9   2020-06-30   6036.0\n",
      "10  2020-03-31   5985.0\n",
      "11  2019-12-31   7384.0\n",
      "12  2019-09-30   6303.0\n",
      "13  2019-06-30   6350.0\n",
      "14  2019-03-31   4541.0\n",
      "15  2018-12-31   7226.0\n",
      "16  2018-09-30   6824.0\n",
      "17  2018-06-30   4002.0\n",
      "18  2018-03-31   3409.0\n",
      "19  2017-12-31   3288.0\n",
      "20  2017-09-30   2985.0\n",
      "21  2017-06-30   2790.0\n",
      "22  2017-03-31   2696.0\n",
      "23  2016-12-31   2285.0\n",
      "24  2016-09-30   2298.0\n",
      "25  2016-06-30   1270.0\n",
      "26  2016-03-31   1147.0\n",
      "27  2015-12-31   1214.0\n",
      "28  2015-09-30    937.0\n",
      "29  2015-06-30    955.0\n",
      "30  2015-03-31    940.0\n",
      "31  2014-12-31    957.0\n",
      "32  2014-09-30    852.0\n",
      "33  2014-06-30    769.0\n",
      "34  2014-03-31    621.0\n",
      "35  2013-12-31    615.0\n",
      "36  2013-09-30    431.0\n",
      "37  2013-06-30    405.0\n",
      "38  2013-03-31    562.0\n",
      "39  2012-12-31    306.0\n",
      "40  2012-09-30     50.0\n",
      "41  2012-06-30     27.0\n",
      "42  2012-03-31     30.0\n",
      "43  2011-12-31     39.0\n",
      "44  2011-09-30     58.0\n",
      "45  2011-06-30     58.0\n",
      "46  2011-03-31     49.0\n",
      "47  2010-12-31     36.0\n",
      "48  2010-09-30     31.0\n",
      "49  2010-06-30     28.0\n",
      "50  2010-03-31     21.0\n",
      "51  2009-12-31      NaN\n",
      "52  2009-09-30     46.0\n",
      "53  2009-06-30     27.0\n"
     ]
    }
   ],
   "source": [
    "# Remove commas and dollar signs from the 'Revenue' column\n",
    "tesla_revenue['Revenue'] = tesla_revenue['Revenue'].str.replace(',', '').str.replace('$', '')\n",
    "\n",
    "# Convert the 'Revenue' column to numeric\n",
    "tesla_revenue['Revenue'] = pd.to_numeric(tesla_revenue['Revenue'])\n",
    "\n",
    "# Display the updated DataFrame\n",
    "print(tesla_revenue)"
   ]
  },
  {
   "cell_type": "markdown",
   "metadata": {},
   "source": [
    "Execute the following lines to remove an null or empty strings in the Revenue column.\n"
   ]
  },
  {
   "cell_type": "code",
   "execution_count": 27,
   "metadata": {
    "tags": []
   },
   "outputs": [
    {
     "name": "stdout",
     "output_type": "stream",
     "text": [
      "          Date  Revenue\n",
      "0   2022-09-30  21454.0\n",
      "1   2022-06-30  16934.0\n",
      "2   2022-03-31  18756.0\n",
      "3   2021-12-31  17719.0\n",
      "4   2021-09-30  13757.0\n",
      "5   2021-06-30  11958.0\n",
      "6   2021-03-31  10389.0\n",
      "7   2020-12-31  10744.0\n",
      "8   2020-09-30   8771.0\n",
      "9   2020-06-30   6036.0\n",
      "10  2020-03-31   5985.0\n",
      "11  2019-12-31   7384.0\n",
      "12  2019-09-30   6303.0\n",
      "13  2019-06-30   6350.0\n",
      "14  2019-03-31   4541.0\n",
      "15  2018-12-31   7226.0\n",
      "16  2018-09-30   6824.0\n",
      "17  2018-06-30   4002.0\n",
      "18  2018-03-31   3409.0\n",
      "19  2017-12-31   3288.0\n",
      "20  2017-09-30   2985.0\n",
      "21  2017-06-30   2790.0\n",
      "22  2017-03-31   2696.0\n",
      "23  2016-12-31   2285.0\n",
      "24  2016-09-30   2298.0\n",
      "25  2016-06-30   1270.0\n",
      "26  2016-03-31   1147.0\n",
      "27  2015-12-31   1214.0\n",
      "28  2015-09-30    937.0\n",
      "29  2015-06-30    955.0\n",
      "30  2015-03-31    940.0\n",
      "31  2014-12-31    957.0\n",
      "32  2014-09-30    852.0\n",
      "33  2014-06-30    769.0\n",
      "34  2014-03-31    621.0\n",
      "35  2013-12-31    615.0\n",
      "36  2013-09-30    431.0\n",
      "37  2013-06-30    405.0\n",
      "38  2013-03-31    562.0\n",
      "39  2012-12-31    306.0\n",
      "40  2012-09-30     50.0\n",
      "41  2012-06-30     27.0\n",
      "42  2012-03-31     30.0\n",
      "43  2011-12-31     39.0\n",
      "44  2011-09-30     58.0\n",
      "45  2011-06-30     58.0\n",
      "46  2011-03-31     49.0\n",
      "47  2010-12-31     36.0\n",
      "48  2010-09-30     31.0\n",
      "49  2010-06-30     28.0\n",
      "50  2010-03-31     21.0\n",
      "51  2009-09-30     46.0\n",
      "52  2009-06-30     27.0\n"
     ]
    }
   ],
   "source": [
    "\n",
    "tesla_revenue = tesla_revenue.dropna(subset=['Revenue'])\n",
    "\n",
    "# Reset the DataFrame index after dropping rows\n",
    "tesla_revenue.reset_index(drop=True, inplace=True)\n",
    "\n",
    "# Display the updated DataFrame\n",
    "print(tesla_revenue)"
   ]
  },
  {
   "cell_type": "markdown",
   "metadata": {},
   "source": [
    "Display the last 5 row of the `tesla_revenue` dataframe using the `tail` function. Take a screenshot of the results.\n"
   ]
  },
  {
   "cell_type": "code",
   "execution_count": 28,
   "metadata": {
    "tags": []
   },
   "outputs": [
    {
     "name": "stdout",
     "output_type": "stream",
     "text": [
      "          Date  Revenue\n",
      "48  2010-09-30     31.0\n",
      "49  2010-06-30     28.0\n",
      "50  2010-03-31     21.0\n",
      "51  2009-09-30     46.0\n",
      "52  2009-06-30     27.0\n"
     ]
    }
   ],
   "source": [
    "last_five_rows = tesla_revenue.tail(5)\n",
    "print(last_five_rows)"
   ]
  },
  {
   "cell_type": "markdown",
   "metadata": {},
   "source": [
    "## Question 3: Use yfinance to Extract Stock Data\n"
   ]
  },
  {
   "cell_type": "markdown",
   "metadata": {},
   "source": [
    "Using the `Ticker` function enter the ticker symbol of the stock we want to extract data on to create a ticker object. The stock is GameStop and its ticker symbol is `GME`.\n"
   ]
  },
  {
   "cell_type": "code",
   "execution_count": 29,
   "metadata": {
    "tags": []
   },
   "outputs": [
    {
     "name": "stdout",
     "output_type": "stream",
     "text": [
      "Stock Info:\n",
      "{'regularMarketPrice': None, 'preMarketPrice': None, 'logo_url': ''}\n",
      "\n",
      "Historical Data:\n",
      "                 Open       High    Low      Close    Volume  Dividends  \\\n",
      "Date                                                                      \n",
      "2023-11-09  13.250000  13.320000  12.70  12.700000   2750100          0   \n",
      "2023-11-10  12.810000  12.970000  12.35  12.540000   3872400          0   \n",
      "2023-11-13  12.500000  12.530000  11.83  12.140000   4318500          0   \n",
      "2023-11-14  12.750000  13.390000  12.69  12.900000   5187500          0   \n",
      "2023-11-15  13.150000  13.500000  13.03  13.270000   4121600          0   \n",
      "2023-11-16  13.140000  13.190000  12.52  12.530000   3425800          0   \n",
      "2023-11-17  12.520000  13.060000  12.52  13.030000   3414200          0   \n",
      "2023-11-20  13.000000  13.200000  12.80  12.800000   2294900          0   \n",
      "2023-11-21  12.650000  12.720000  12.26  12.550000   3710100          0   \n",
      "2023-11-22  12.560000  12.710000  12.19  12.290000   2358800          0   \n",
      "2023-11-24  12.220000  12.410000  12.18  12.200000   1232500          0   \n",
      "2023-11-27  12.180000  12.330000  11.89  11.910000   3710600          0   \n",
      "2023-11-28  11.900000  13.550000  11.89  13.490000  14192900          0   \n",
      "2023-11-29  15.490000  17.559999  14.70  16.250000  61172800          0   \n",
      "2023-11-30  16.290001  16.330000  14.32  14.550000  16537200          0   \n",
      "2023-12-01  14.520000  15.990000  14.50  15.300000  13347300          0   \n",
      "2023-12-04  15.290000  17.410000  14.91  16.980000  20098700          0   \n",
      "2023-12-05  16.469999  16.719999  14.87  14.910000  14220100          0   \n",
      "2023-12-06  15.360000  15.700000  14.64  14.840000  12691300          0   \n",
      "2023-12-07  13.710000  16.520000  13.56  16.360001  19840700          0   \n",
      "2023-12-08  15.830000  16.480000  15.47  15.550000  10375400          0   \n",
      "\n",
      "            Stock Splits  \n",
      "Date                      \n",
      "2023-11-09             0  \n",
      "2023-11-10             0  \n",
      "2023-11-13             0  \n",
      "2023-11-14             0  \n",
      "2023-11-15             0  \n",
      "2023-11-16             0  \n",
      "2023-11-17             0  \n",
      "2023-11-20             0  \n",
      "2023-11-21             0  \n",
      "2023-11-22             0  \n",
      "2023-11-24             0  \n",
      "2023-11-27             0  \n",
      "2023-11-28             0  \n",
      "2023-11-29             0  \n",
      "2023-11-30             0  \n",
      "2023-12-01             0  \n",
      "2023-12-04             0  \n",
      "2023-12-05             0  \n",
      "2023-12-06             0  \n",
      "2023-12-07             0  \n",
      "2023-12-08             0  \n"
     ]
    }
   ],
   "source": [
    "import yfinance as yf\n",
    "\n",
    "# Create a ticker object for GameStop with ticker symbol 'GME'\n",
    "gme_ticker = yf.Ticker(\"GME\")\n",
    "\n",
    "# Get stock info\n",
    "stock_info = gme_ticker.info\n",
    "print(\"Stock Info:\")\n",
    "print(stock_info)\n",
    "\n",
    "# Get historical market data\n",
    "historical_data = gme_ticker.history(period=\"1mo\")  # You can change the period as needed\n",
    "print(\"\\nHistorical Data:\")\n",
    "print(historical_data)"
   ]
  },
  {
   "cell_type": "markdown",
   "metadata": {},
   "source": [
    "Using the ticker object and the function `history` extract stock information and save it in a dataframe named `gme_data`. Set the `period` parameter to `max` so we get information for the maximum amount of time.\n"
   ]
  },
  {
   "cell_type": "code",
   "execution_count": 30,
   "metadata": {
    "tags": []
   },
   "outputs": [
    {
     "name": "stdout",
     "output_type": "stream",
     "text": [
      "                Open      High       Low     Close    Volume  Dividends  \\\n",
      "Date                                                                      \n",
      "2002-02-13  1.620128  1.693350  1.603296  1.691667  76216000        0.0   \n",
      "2002-02-14  1.712707  1.716074  1.670626  1.683250  11021600        0.0   \n",
      "2002-02-15  1.683250  1.687458  1.658001  1.674834   8389600        0.0   \n",
      "2002-02-19  1.666418  1.666418  1.578047  1.607504   7410400        0.0   \n",
      "2002-02-20  1.615920  1.662209  1.603295  1.662209   6892800        0.0   \n",
      "\n",
      "            Stock Splits  \n",
      "Date                      \n",
      "2002-02-13           0.0  \n",
      "2002-02-14           0.0  \n",
      "2002-02-15           0.0  \n",
      "2002-02-19           0.0  \n",
      "2002-02-20           0.0  \n"
     ]
    }
   ],
   "source": [
    "# Create a ticker object for GameStop with ticker symbol 'GME'\n",
    "gme_ticker = yf.Ticker(\"GME\")\n",
    "\n",
    "# Get historical market data for the maximum available time\n",
    "gme_data = gme_ticker.history(period=\"max\")\n",
    "\n",
    "# Display the first few rows of the DataFrame\n",
    "print(gme_data.head())\n",
    "\n",
    "# Save the data to a CSV file named 'gme_data.csv'\n",
    "gme_data.to_csv('gme_data.csv')"
   ]
  },
  {
   "cell_type": "markdown",
   "metadata": {},
   "source": [
    "**Reset the index** using the `reset_index(inplace=True)` function on the gme_data DataFrame and display the first five rows of the `gme_data` dataframe using the `head` function. Take a screenshot of the results and code from the beginning of Question 3 to the results below.\n"
   ]
  },
  {
   "cell_type": "code",
   "execution_count": 31,
   "metadata": {
    "tags": []
   },
   "outputs": [
    {
     "name": "stdout",
     "output_type": "stream",
     "text": [
      "        Date      Open      High       Low     Close    Volume  Dividends  \\\n",
      "0 2002-02-13  1.620129  1.693350  1.603296  1.691667  76216000        0.0   \n",
      "1 2002-02-14  1.712707  1.716074  1.670626  1.683250  11021600        0.0   \n",
      "2 2002-02-15  1.683251  1.687459  1.658002  1.674834   8389600        0.0   \n",
      "3 2002-02-19  1.666418  1.666418  1.578047  1.607504   7410400        0.0   \n",
      "4 2002-02-20  1.615921  1.662210  1.603296  1.662210   6892800        0.0   \n",
      "\n",
      "   Stock Splits  \n",
      "0           0.0  \n",
      "1           0.0  \n",
      "2           0.0  \n",
      "3           0.0  \n",
      "4           0.0  \n"
     ]
    }
   ],
   "source": [
    "# Create a ticker object for GameStop with ticker symbol 'GME'\n",
    "gme_ticker = yf.Ticker(\"GME\")\n",
    "\n",
    "# Get historical market data for the maximum available time\n",
    "gme_data = gme_ticker.history(period=\"max\")\n",
    "\n",
    "# Reset the index of the DataFrame\n",
    "gme_data.reset_index(inplace=True)\n",
    "\n",
    "# Display the first five rows of the DataFrame\n",
    "print(gme_data.head())"
   ]
  },
  {
   "cell_type": "markdown",
   "metadata": {},
   "source": [
    "## Question 4: Use Webscraping to Extract GME Revenue Data\n"
   ]
  },
  {
   "cell_type": "markdown",
   "metadata": {},
   "source": [
    "Use the `requests` library to download the webpage https://cf-courses-data.s3.us.cloud-object-storage.appdomain.cloud/IBMDeveloperSkillsNetwork-PY0220EN-SkillsNetwork/labs/project/stock.html. Save the text of the response as a variable named `html_data`.\n"
   ]
  },
  {
   "cell_type": "code",
   "execution_count": 32,
   "metadata": {
    "tags": []
   },
   "outputs": [],
   "source": [
    "url = 'https://cf-courses-data.s3.us.cloud-object-storage.appdomain.cloud/IBMDeveloperSkillsNetwork-PY0220EN-SkillsNetwork/labs/project/stock.html'\n",
    "\n",
    "# Sending a GET request to the URL\n",
    "response = requests.get(url)\n",
    "\n",
    "# Check if the request was successful (status code 200)\n",
    "if response.status_code == 200:\n",
    "    # Save the content of the response in html_data\n",
    "    html_data = response.text"
   ]
  },
  {
   "cell_type": "markdown",
   "metadata": {},
   "source": [
    "Parse the html data using `beautiful_soup`.\n"
   ]
  },
  {
   "cell_type": "code",
   "execution_count": 33,
   "metadata": {
    "tags": []
   },
   "outputs": [],
   "source": [
    "soup = BeautifulSoup(html_data, 'html.parser')\n",
    "\n",
    "# Find and print the title of the webpage (for example)\n",
    "title = soup.title"
   ]
  },
  {
   "cell_type": "markdown",
   "metadata": {},
   "source": [
    "Using `BeautifulSoup` or the `read_html` function extract the table with `GameStop Revenue` and store it into a dataframe named `gme_revenue`. The dataframe should have columns `Date` and `Revenue`. Make sure the comma and dollar sign is removed from the `Revenue` column using a method similar to what you did in Question 2.\n"
   ]
  },
  {
   "cell_type": "markdown",
   "metadata": {},
   "source": [
    "<details><summary>Click here if you need help locating the table</summary>\n",
    "\n",
    "```\n",
    "    \n",
    "Below is the code to isolate the table, you will now need to loop through the rows and columns like in the previous lab\n",
    "    \n",
    "soup.find_all(\"tbody\")[1]\n",
    "    \n",
    "If you want to use the read_html function the table is located at index 1\n",
    "\n",
    "\n",
    "```\n",
    "\n",
    "</details>\n"
   ]
  },
  {
   "cell_type": "code",
   "execution_count": 34,
   "metadata": {
    "tags": []
   },
   "outputs": [
    {
     "name": "stdout",
     "output_type": "stream",
     "text": [
      "          Date Revenue\n",
      "0   2020-04-30    1021\n",
      "1   2020-01-31    2194\n",
      "2   2019-10-31    1439\n",
      "3   2019-07-31    1286\n",
      "4   2019-04-30    1548\n",
      "..         ...     ...\n",
      "57  2006-01-31    1667\n",
      "58  2005-10-31     534\n",
      "59  2005-07-31     416\n",
      "60  2005-04-30     475\n",
      "61  2005-01-31     709\n",
      "\n",
      "[62 rows x 2 columns]\n"
     ]
    }
   ],
   "source": [
    "url = 'https://cf-courses-data.s3.us.cloud-object-storage.appdomain.cloud/IBMDeveloperSkillsNetwork-PY0220EN-SkillsNetwork/labs/project/stock.html'\n",
    "\n",
    "# Sending a GET request to the URL\n",
    "response = requests.get(url)\n",
    "\n",
    "# Check if the request was successful (status code 200)\n",
    "if response.status_code == 200:\n",
    "    # Parse the HTML content using BeautifulSoup\n",
    "    soup = BeautifulSoup(response.content, 'html.parser')\n",
    "    \n",
    "    # Find the table containing GameStop revenue\n",
    "    table = soup.find_all(\"tbody\")[1]\n",
    "    \n",
    "    # Extracting rows from the table\n",
    "    rows = table.find_all('tr')\n",
    "    \n",
    "    # Initialize empty lists to store data\n",
    "    dates = []\n",
    "    revenues = []\n",
    "    \n",
    "    # Loop through rows to extract data\n",
    "    for row in rows:\n",
    "        # Extracting columns (td elements) from each row\n",
    "        cols = row.find_all('td')\n",
    "        if len(cols) == 2:  # Ensure there are exactly 2 columns\n",
    "            # Extracting Date and Revenue values\n",
    "            date = cols[0].get_text().strip()\n",
    "            revenue = cols[1].get_text().strip().replace(',', '').replace('$', '')  # Remove comma and dollar sign\n",
    "            dates.append(date)\n",
    "            revenues.append(revenue)\n",
    "    \n",
    "    # Create a DataFrame from the extracted data\n",
    "    gme_revenue = pd.DataFrame({\n",
    "        'Date': dates,\n",
    "        'Revenue': revenues\n",
    "    })\n",
    "    \n",
    "    # Display the DataFrame\n",
    "    print(gme_revenue)\n",
    "else:\n",
    "    print(\"Failed to retrieve the webpage. Status code:\", response.status_code)"
   ]
  },
  {
   "cell_type": "markdown",
   "metadata": {},
   "source": [
    "Display the last five rows of the `gme_revenue` dataframe using the `tail` function. Take a screenshot of the results.\n"
   ]
  },
  {
   "cell_type": "code",
   "execution_count": 35,
   "metadata": {
    "tags": []
   },
   "outputs": [
    {
     "name": "stdout",
     "output_type": "stream",
     "text": [
      "          Date Revenue\n",
      "57  2006-01-31    1667\n",
      "58  2005-10-31     534\n",
      "59  2005-07-31     416\n",
      "60  2005-04-30     475\n",
      "61  2005-01-31     709\n"
     ]
    }
   ],
   "source": [
    "print(gme_revenue.tail())"
   ]
  },
  {
   "cell_type": "markdown",
   "metadata": {},
   "source": [
    "## Question 5: Plot Tesla Stock Graph\n"
   ]
  },
  {
   "cell_type": "markdown",
   "metadata": {},
   "source": [
    "Use the `make_graph` function to graph the Tesla Stock Data, also provide a title for the graph. The structure to call the `make_graph` function is `make_graph(tesla_data, tesla_revenue, 'Tesla')`. Note the graph will only show data upto June 2021.\n"
   ]
  },
  {
   "cell_type": "code",
   "execution_count": 39,
   "metadata": {
    "tags": []
   },
   "outputs": [
    {
     "data": {
      "image/png": "[encoded data removed]",
      "text/plain": [
       "<Figure size 1000x600 with 2 Axes>"
      ]
     },
     "metadata": {},
     "output_type": "display_data"
    }
   ],
   "source": [
    "import matplotlib.pyplot as plt\n",
    "\n",
    "def make_graph(stock_data, revenue_data, title):\n",
    "    plt.figure(figsize=(10, 6))\n",
    "    plt.plot(stock_data['Date'], stock_data['Close'], label='Tesla Stock Price', color='blue')\n",
    "    plt.xlabel('Date')\n",
    "    plt.ylabel('Stock Price ($)')\n",
    "    plt.title(title + ' Stock Price until June 2021')\n",
    "    plt.legend()\n",
    "\n",
    "    plt.twinx()\n",
    "    plt.plot(revenue_data['Date'], revenue_data['Revenue'], label='Tesla Revenue', color='orange')\n",
    "    plt.ylabel('Revenue ($)')\n",
    "    plt.legend(loc='upper right')\n",
    "\n",
    "    plt.grid(True)\n",
    "    plt.tight_layout()\n",
    "    plt.show()\n",
    "make_graph(tesla_data, tesla_revenue, 'Tesla')"
   ]
  },
  {
   "cell_type": "markdown",
   "metadata": {},
   "source": [
    "## Question 6: Plot GameStop Stock Graph\n"
   ]
  },
  {
   "cell_type": "markdown",
   "metadata": {},
   "source": [
    "Use the `make_graph` function to graph the GameStop Stock Data, also provide a title for the graph. The structure to call the `make_graph` function is `make_graph(gme_data, gme_revenue, 'GameStop')`. Note the graph will only show data upto June 2021.\n"
   ]
  },
  {
   "cell_type": "code",
   "execution_count": 40,
   "metadata": {
    "tags": []
   },
   "outputs": [
    {
     "data": {
      "image/png": "[encoded data removed]",
      "text/plain": [
       "<Figure size 1000x600 with 2 Axes>"
      ]
     },
     "metadata": {},
     "output_type": "display_data"
    }
   ],
   "source": [
    "make_graph(gme_data, gme_revenue, 'GameStop')"
   ]
  },
  {
   "cell_type": "markdown",
   "metadata": {},
   "source": [
    "<h2>About the Authors:</h2> \n",
    "\n",
    "<a href=\"https://www.linkedin.com/in/joseph-s-50398b136/\">Joseph Santarcangelo</a> has a PhD in Electrical Engineering, his research focused on using machine learning, signal processing, and computer vision to determine how videos impact human cognition. Joseph has been working for IBM since he completed his PhD.\n",
    "\n",
    "Azim Hirjani\n"
   ]
  },
  {
   "cell_type": "markdown",
   "metadata": {},
   "source": [
    "## Change Log\n",
    "\n",
    "| Date (YYYY-MM-DD) | Version | Changed By    | Change Description        |\n",
    "| ----------------- | ------- | ------------- | ------------------------- |\n",
    "| 2022-02-28        | 1.2     | Lakshmi Holla | Changed the URL of GameStop |\n",
    "| 2020-11-10        | 1.1     | Malika Singla | Deleted the Optional part |\n",
    "| 2020-08-27        | 1.0     | Malika Singla | Added lab to GitLab       |\n",
    "\n",
    "<hr>\n",
    "\n",
    "## <h3 align=\"center\"> © IBM Corporation 2020. All rights reserved. <h3/>\n",
    "\n",
    "<p>\n"
   ]
  }
 ],
 "metadata": {
  "kernelspec": {
   "display_name": "Python",
   "language": "python",
   "name": "conda-env-python-py"
  },
  "language_info": {
   "codemirror_mode": {
    "name": "ipython",
    "version": 3
   },
   "file_extension": ".py",
   "mimetype": "text/x-python",
   "name": "python",
   "nbconvert_exporter": "python",
   "pygments_lexer": "ipython3",
   "version": "3.7.12"
  }
 },
 "nbformat": 4,
 "nbformat_minor": 4
}
